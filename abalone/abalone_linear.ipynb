{
 "cells": [
  {
   "cell_type": "code",
   "execution_count": 66,
   "metadata": {},
   "outputs": [],
   "source": [
    "import numpy as np\n",
    "import pandas as pd\n",
    "import matplotlib.pyplot as plt\n",
    "import seaborn as sns\n",
    "from sklearn.metrics import r2_score\n",
    "from sklearn.model_selection import train_test_split as tts\n",
    "from sklearn.linear_model import LinearRegression\n",
    "from sklearn.preprocessing import LabelEncoder\n",
    "from sklearn.metrics import mean_squared_error\n",
    "import math"
   ]
  },
  {
   "cell_type": "code",
   "execution_count": 67,
   "metadata": {},
   "outputs": [],
   "source": [
    "cols=[\"sex\",\"length\",\"diameter\",\"height\",\"whole_wght\",\"shucked_wght\",\"viscera_wght\",\"shell_wght\",\"rings\"]\n",
    "data=pd.read_csv(\"/home/krulvain/datasets/abalone/abalone.csv\",header=None,names=cols)"
   ]
  },
  {
   "cell_type": "code",
   "execution_count": 68,
   "metadata": {},
   "outputs": [
    {
     "data": {
      "text/plain": [
       "sex              object\n",
       "length          float64\n",
       "diameter        float64\n",
       "height          float64\n",
       "whole_wght      float64\n",
       "shucked_wght    float64\n",
       "viscera_wght    float64\n",
       "shell_wght      float64\n",
       "rings             int64\n",
       "dtype: object"
      ]
     },
     "execution_count": 68,
     "metadata": {},
     "output_type": "execute_result"
    }
   ],
   "source": [
    "data.dtypes"
   ]
  },
  {
   "cell_type": "code",
   "execution_count": 69,
   "metadata": {},
   "outputs": [
    {
     "data": {
      "text/html": [
       "<div>\n",
       "<style scoped>\n",
       "    .dataframe tbody tr th:only-of-type {\n",
       "        vertical-align: middle;\n",
       "    }\n",
       "\n",
       "    .dataframe tbody tr th {\n",
       "        vertical-align: top;\n",
       "    }\n",
       "\n",
       "    .dataframe thead th {\n",
       "        text-align: right;\n",
       "    }\n",
       "</style>\n",
       "<table border=\"1\" class=\"dataframe\">\n",
       "  <thead>\n",
       "    <tr style=\"text-align: right;\">\n",
       "      <th></th>\n",
       "      <th>sex</th>\n",
       "      <th>length</th>\n",
       "      <th>diameter</th>\n",
       "      <th>height</th>\n",
       "      <th>whole_wght</th>\n",
       "      <th>shucked_wght</th>\n",
       "      <th>viscera_wght</th>\n",
       "      <th>shell_wght</th>\n",
       "      <th>rings</th>\n",
       "    </tr>\n",
       "  </thead>\n",
       "  <tbody>\n",
       "    <tr>\n",
       "      <th>0</th>\n",
       "      <td>M</td>\n",
       "      <td>0.455</td>\n",
       "      <td>0.365</td>\n",
       "      <td>0.095</td>\n",
       "      <td>0.5140</td>\n",
       "      <td>0.2245</td>\n",
       "      <td>0.1010</td>\n",
       "      <td>0.150</td>\n",
       "      <td>15</td>\n",
       "    </tr>\n",
       "    <tr>\n",
       "      <th>1</th>\n",
       "      <td>M</td>\n",
       "      <td>0.350</td>\n",
       "      <td>0.265</td>\n",
       "      <td>0.090</td>\n",
       "      <td>0.2255</td>\n",
       "      <td>0.0995</td>\n",
       "      <td>0.0485</td>\n",
       "      <td>0.070</td>\n",
       "      <td>7</td>\n",
       "    </tr>\n",
       "    <tr>\n",
       "      <th>2</th>\n",
       "      <td>F</td>\n",
       "      <td>0.530</td>\n",
       "      <td>0.420</td>\n",
       "      <td>0.135</td>\n",
       "      <td>0.6770</td>\n",
       "      <td>0.2565</td>\n",
       "      <td>0.1415</td>\n",
       "      <td>0.210</td>\n",
       "      <td>9</td>\n",
       "    </tr>\n",
       "    <tr>\n",
       "      <th>3</th>\n",
       "      <td>M</td>\n",
       "      <td>0.440</td>\n",
       "      <td>0.365</td>\n",
       "      <td>0.125</td>\n",
       "      <td>0.5160</td>\n",
       "      <td>0.2155</td>\n",
       "      <td>0.1140</td>\n",
       "      <td>0.155</td>\n",
       "      <td>10</td>\n",
       "    </tr>\n",
       "    <tr>\n",
       "      <th>4</th>\n",
       "      <td>I</td>\n",
       "      <td>0.330</td>\n",
       "      <td>0.255</td>\n",
       "      <td>0.080</td>\n",
       "      <td>0.2050</td>\n",
       "      <td>0.0895</td>\n",
       "      <td>0.0395</td>\n",
       "      <td>0.055</td>\n",
       "      <td>7</td>\n",
       "    </tr>\n",
       "  </tbody>\n",
       "</table>\n",
       "</div>"
      ],
      "text/plain": [
       "  sex  length  diameter  height  whole_wght  shucked_wght  viscera_wght  \\\n",
       "0   M   0.455     0.365   0.095      0.5140        0.2245        0.1010   \n",
       "1   M   0.350     0.265   0.090      0.2255        0.0995        0.0485   \n",
       "2   F   0.530     0.420   0.135      0.6770        0.2565        0.1415   \n",
       "3   M   0.440     0.365   0.125      0.5160        0.2155        0.1140   \n",
       "4   I   0.330     0.255   0.080      0.2050        0.0895        0.0395   \n",
       "\n",
       "   shell_wght  rings  \n",
       "0       0.150     15  \n",
       "1       0.070      7  \n",
       "2       0.210      9  \n",
       "3       0.155     10  \n",
       "4       0.055      7  "
      ]
     },
     "execution_count": 69,
     "metadata": {},
     "output_type": "execute_result"
    }
   ],
   "source": [
    "data.head()\n"
   ]
  },
  {
   "cell_type": "code",
   "execution_count": 70,
   "metadata": {},
   "outputs": [
    {
     "data": {
      "text/html": [
       "<div>\n",
       "<style scoped>\n",
       "    .dataframe tbody tr th:only-of-type {\n",
       "        vertical-align: middle;\n",
       "    }\n",
       "\n",
       "    .dataframe tbody tr th {\n",
       "        vertical-align: top;\n",
       "    }\n",
       "\n",
       "    .dataframe thead th {\n",
       "        text-align: right;\n",
       "    }\n",
       "</style>\n",
       "<table border=\"1\" class=\"dataframe\">\n",
       "  <thead>\n",
       "    <tr style=\"text-align: right;\">\n",
       "      <th></th>\n",
       "      <th>length</th>\n",
       "      <th>diameter</th>\n",
       "      <th>height</th>\n",
       "      <th>whole_wght</th>\n",
       "      <th>shucked_wght</th>\n",
       "      <th>viscera_wght</th>\n",
       "      <th>shell_wght</th>\n",
       "      <th>rings</th>\n",
       "    </tr>\n",
       "  </thead>\n",
       "  <tbody>\n",
       "    <tr>\n",
       "      <th>count</th>\n",
       "      <td>4177.000000</td>\n",
       "      <td>4177.000000</td>\n",
       "      <td>4177.000000</td>\n",
       "      <td>4177.000000</td>\n",
       "      <td>4177.000000</td>\n",
       "      <td>4177.000000</td>\n",
       "      <td>4177.000000</td>\n",
       "      <td>4177.000000</td>\n",
       "    </tr>\n",
       "    <tr>\n",
       "      <th>mean</th>\n",
       "      <td>0.523992</td>\n",
       "      <td>0.407881</td>\n",
       "      <td>0.139516</td>\n",
       "      <td>0.828742</td>\n",
       "      <td>0.359367</td>\n",
       "      <td>0.180594</td>\n",
       "      <td>0.238831</td>\n",
       "      <td>9.933684</td>\n",
       "    </tr>\n",
       "    <tr>\n",
       "      <th>std</th>\n",
       "      <td>0.120093</td>\n",
       "      <td>0.099240</td>\n",
       "      <td>0.041827</td>\n",
       "      <td>0.490389</td>\n",
       "      <td>0.221963</td>\n",
       "      <td>0.109614</td>\n",
       "      <td>0.139203</td>\n",
       "      <td>3.224169</td>\n",
       "    </tr>\n",
       "    <tr>\n",
       "      <th>min</th>\n",
       "      <td>0.075000</td>\n",
       "      <td>0.055000</td>\n",
       "      <td>0.000000</td>\n",
       "      <td>0.002000</td>\n",
       "      <td>0.001000</td>\n",
       "      <td>0.000500</td>\n",
       "      <td>0.001500</td>\n",
       "      <td>1.000000</td>\n",
       "    </tr>\n",
       "    <tr>\n",
       "      <th>25%</th>\n",
       "      <td>0.450000</td>\n",
       "      <td>0.350000</td>\n",
       "      <td>0.115000</td>\n",
       "      <td>0.441500</td>\n",
       "      <td>0.186000</td>\n",
       "      <td>0.093500</td>\n",
       "      <td>0.130000</td>\n",
       "      <td>8.000000</td>\n",
       "    </tr>\n",
       "    <tr>\n",
       "      <th>50%</th>\n",
       "      <td>0.545000</td>\n",
       "      <td>0.425000</td>\n",
       "      <td>0.140000</td>\n",
       "      <td>0.799500</td>\n",
       "      <td>0.336000</td>\n",
       "      <td>0.171000</td>\n",
       "      <td>0.234000</td>\n",
       "      <td>9.000000</td>\n",
       "    </tr>\n",
       "    <tr>\n",
       "      <th>75%</th>\n",
       "      <td>0.615000</td>\n",
       "      <td>0.480000</td>\n",
       "      <td>0.165000</td>\n",
       "      <td>1.153000</td>\n",
       "      <td>0.502000</td>\n",
       "      <td>0.253000</td>\n",
       "      <td>0.329000</td>\n",
       "      <td>11.000000</td>\n",
       "    </tr>\n",
       "    <tr>\n",
       "      <th>max</th>\n",
       "      <td>0.815000</td>\n",
       "      <td>0.650000</td>\n",
       "      <td>1.130000</td>\n",
       "      <td>2.825500</td>\n",
       "      <td>1.488000</td>\n",
       "      <td>0.760000</td>\n",
       "      <td>1.005000</td>\n",
       "      <td>29.000000</td>\n",
       "    </tr>\n",
       "  </tbody>\n",
       "</table>\n",
       "</div>"
      ],
      "text/plain": [
       "            length     diameter       height   whole_wght  shucked_wght  \\\n",
       "count  4177.000000  4177.000000  4177.000000  4177.000000   4177.000000   \n",
       "mean      0.523992     0.407881     0.139516     0.828742      0.359367   \n",
       "std       0.120093     0.099240     0.041827     0.490389      0.221963   \n",
       "min       0.075000     0.055000     0.000000     0.002000      0.001000   \n",
       "25%       0.450000     0.350000     0.115000     0.441500      0.186000   \n",
       "50%       0.545000     0.425000     0.140000     0.799500      0.336000   \n",
       "75%       0.615000     0.480000     0.165000     1.153000      0.502000   \n",
       "max       0.815000     0.650000     1.130000     2.825500      1.488000   \n",
       "\n",
       "       viscera_wght   shell_wght        rings  \n",
       "count   4177.000000  4177.000000  4177.000000  \n",
       "mean       0.180594     0.238831     9.933684  \n",
       "std        0.109614     0.139203     3.224169  \n",
       "min        0.000500     0.001500     1.000000  \n",
       "25%        0.093500     0.130000     8.000000  \n",
       "50%        0.171000     0.234000     9.000000  \n",
       "75%        0.253000     0.329000    11.000000  \n",
       "max        0.760000     1.005000    29.000000  "
      ]
     },
     "execution_count": 70,
     "metadata": {},
     "output_type": "execute_result"
    }
   ],
   "source": [
    "data.describe()"
   ]
  },
  {
   "cell_type": "code",
   "execution_count": 71,
   "metadata": {},
   "outputs": [],
   "source": [
    "data.loc[data.sex ==\"M\",\"sex\"]=\"G\"\n",
    "data.loc[data.sex ==\"F\",\"sex\"]=\"G\"\n"
   ]
  },
  {
   "cell_type": "code",
   "execution_count": 72,
   "metadata": {},
   "outputs": [],
   "source": [
    "lenc=LabelEncoder()\n",
    "data.iloc[:,0]=lenc.fit_transform(data.iloc[:,0])"
   ]
  },
  {
   "cell_type": "code",
   "execution_count": 73,
   "metadata": {},
   "outputs": [],
   "source": [
    "data[\"act_tot_wght\"]=data[\"shucked_wght\"]+data[\"viscera_wght\"]+data[\"shell_wght\"]\n"
   ]
  },
  {
   "cell_type": "code",
   "execution_count": 74,
   "metadata": {},
   "outputs": [
    {
     "name": "stdout",
     "output_type": "stream",
     "text": [
      "0       0.0385\n",
      "1       0.0075\n",
      "2       0.0690\n",
      "3       0.0315\n",
      "4       0.0210\n",
      "5       0.0130\n",
      "6       0.0690\n",
      "7       0.0645\n",
      "8       0.0155\n",
      "9       0.1090\n",
      "10      0.0550\n",
      "11      0.0225\n",
      "12      0.0390\n",
      "13      0.0360\n",
      "14      0.0425\n",
      "15      0.0335\n",
      "16      0.0410\n",
      "17      0.0460\n",
      "18      0.0155\n",
      "19      0.0205\n",
      "20      0.0130\n",
      "21      0.0115\n",
      "22      0.0280\n",
      "23      0.0355\n",
      "24      0.0425\n",
      "25      0.0580\n",
      "26      0.0440\n",
      "27      0.0610\n",
      "28      0.0285\n",
      "29      0.0435\n",
      "         ...  \n",
      "4147    0.1325\n",
      "4148    0.3690\n",
      "4149    0.0095\n",
      "4150    0.0010\n",
      "4151    0.0095\n",
      "4152    0.0025\n",
      "4153    0.0140\n",
      "4154    0.0105\n",
      "4155    0.0185\n",
      "4156    0.0180\n",
      "4157    0.0130\n",
      "4158    0.0195\n",
      "4159    0.0320\n",
      "4160    0.0780\n",
      "4161    0.0215\n",
      "4162    0.0205\n",
      "4163    0.0145\n",
      "4164    0.0145\n",
      "4165    0.0150\n",
      "4166    0.0225\n",
      "4167    0.0280\n",
      "4168    0.0290\n",
      "4169    0.0545\n",
      "4170    0.0880\n",
      "4171    0.0665\n",
      "4172    0.0290\n",
      "4173    0.0520\n",
      "4174    0.0550\n",
      "4175    0.0065\n",
      "4176    0.1315\n",
      "Length: 4177, dtype: float64\n"
     ]
    }
   ],
   "source": [
    "print(data[\"whole_wght\"]-data[\"act_tot_wght\"])\n"
   ]
  },
  {
   "cell_type": "code",
   "execution_count": 75,
   "metadata": {},
   "outputs": [],
   "source": [
    "data.drop([\"whole_wght\"],axis=1,inplace=True)\n"
   ]
  },
  {
   "cell_type": "code",
   "execution_count": 76,
   "metadata": {},
   "outputs": [],
   "source": [
    "data=data[[\"sex\",\"length\",\"diameter\",\"height\",\"shucked_wght\",\"viscera_wght\",\"shell_wght\",\"act_tot_wght\",\"rings\"]]\n"
   ]
  },
  {
   "cell_type": "code",
   "execution_count": 77,
   "metadata": {},
   "outputs": [],
   "source": [
    "features=data.iloc[:,:-1]\n",
    "target=data.iloc[:,-1]"
   ]
  },
  {
   "cell_type": "code",
   "execution_count": 78,
   "metadata": {},
   "outputs": [
    {
     "name": "stdout",
     "output_type": "stream",
     "text": [
      " i=0 name of col=sex,  vif= 1.5160577177199546\n",
      " i=1 name of col=length,  vif= 40.93815809654125\n",
      " i=2 name of col=diameter,  vif= 42.33117557656818\n",
      " i=3 name of col=height,  vif= 3.5784019948331207\n",
      " i=4 name of col=shucked_wght,  vif= inf\n",
      " i=5 name of col=viscera_wght,  vif= inf\n",
      " i=6 name of col=shell_wght,  vif= inf\n",
      " i=7 name of col=act_tot_wght,  vif= inf\n"
     ]
    },
    {
     "name": "stderr",
     "output_type": "stream",
     "text": [
      "/home/krulvain/ml/lib/python3.6/site-packages/ipykernel_launcher.py:9: RuntimeWarning: divide by zero encountered in double_scalars\n",
      "  if __name__ == '__main__':\n",
      "/home/krulvain/ml/lib/python3.6/site-packages/ipykernel_launcher.py:9: RuntimeWarning: divide by zero encountered in double_scalars\n",
      "  if __name__ == '__main__':\n",
      "/home/krulvain/ml/lib/python3.6/site-packages/ipykernel_launcher.py:9: RuntimeWarning: divide by zero encountered in double_scalars\n",
      "  if __name__ == '__main__':\n",
      "/home/krulvain/ml/lib/python3.6/site-packages/ipykernel_launcher.py:9: RuntimeWarning: divide by zero encountered in double_scalars\n",
      "  if __name__ == '__main__':\n"
     ]
    }
   ],
   "source": [
    "cols=list(data.columns[:-1])\n",
    "def vif():\n",
    "    for x in range(len(cols)):\n",
    "        try:\n",
    "            y=features.iloc[:,features.columns == cols[x]]\n",
    "            X=features.iloc[:,features.columns !=cols[x]]\n",
    "            mod=LinearRegression()\n",
    "            mod.fit(X,y)\n",
    "            print(\" i={} name of col={},  vif= {}\".format(x,cols[x],1/(1-mod.score(X,y))))\n",
    "        except ZeroDivisionError:\n",
    "            continue\n",
    "vif()"
   ]
  },
  {
   "cell_type": "code",
   "execution_count": 79,
   "metadata": {},
   "outputs": [],
   "source": [
    "data.drop([\"sex\",\"diameter\"],axis=1,inplace=True)"
   ]
  },
  {
   "cell_type": "code",
   "execution_count": 80,
   "metadata": {},
   "outputs": [
    {
     "data": {
      "text/html": [
       "<div>\n",
       "<style scoped>\n",
       "    .dataframe tbody tr th:only-of-type {\n",
       "        vertical-align: middle;\n",
       "    }\n",
       "\n",
       "    .dataframe tbody tr th {\n",
       "        vertical-align: top;\n",
       "    }\n",
       "\n",
       "    .dataframe thead th {\n",
       "        text-align: right;\n",
       "    }\n",
       "</style>\n",
       "<table border=\"1\" class=\"dataframe\">\n",
       "  <thead>\n",
       "    <tr style=\"text-align: right;\">\n",
       "      <th></th>\n",
       "      <th>length</th>\n",
       "      <th>height</th>\n",
       "      <th>shucked_wght</th>\n",
       "      <th>viscera_wght</th>\n",
       "      <th>shell_wght</th>\n",
       "      <th>act_tot_wght</th>\n",
       "      <th>rings</th>\n",
       "    </tr>\n",
       "  </thead>\n",
       "  <tbody>\n",
       "    <tr>\n",
       "      <th>0</th>\n",
       "      <td>0.455</td>\n",
       "      <td>0.095</td>\n",
       "      <td>0.2245</td>\n",
       "      <td>0.1010</td>\n",
       "      <td>0.150</td>\n",
       "      <td>0.4755</td>\n",
       "      <td>15</td>\n",
       "    </tr>\n",
       "    <tr>\n",
       "      <th>1</th>\n",
       "      <td>0.350</td>\n",
       "      <td>0.090</td>\n",
       "      <td>0.0995</td>\n",
       "      <td>0.0485</td>\n",
       "      <td>0.070</td>\n",
       "      <td>0.2180</td>\n",
       "      <td>7</td>\n",
       "    </tr>\n",
       "    <tr>\n",
       "      <th>2</th>\n",
       "      <td>0.530</td>\n",
       "      <td>0.135</td>\n",
       "      <td>0.2565</td>\n",
       "      <td>0.1415</td>\n",
       "      <td>0.210</td>\n",
       "      <td>0.6080</td>\n",
       "      <td>9</td>\n",
       "    </tr>\n",
       "    <tr>\n",
       "      <th>3</th>\n",
       "      <td>0.440</td>\n",
       "      <td>0.125</td>\n",
       "      <td>0.2155</td>\n",
       "      <td>0.1140</td>\n",
       "      <td>0.155</td>\n",
       "      <td>0.4845</td>\n",
       "      <td>10</td>\n",
       "    </tr>\n",
       "    <tr>\n",
       "      <th>4</th>\n",
       "      <td>0.330</td>\n",
       "      <td>0.080</td>\n",
       "      <td>0.0895</td>\n",
       "      <td>0.0395</td>\n",
       "      <td>0.055</td>\n",
       "      <td>0.1840</td>\n",
       "      <td>7</td>\n",
       "    </tr>\n",
       "  </tbody>\n",
       "</table>\n",
       "</div>"
      ],
      "text/plain": [
       "   length  height  shucked_wght  viscera_wght  shell_wght  act_tot_wght  rings\n",
       "0   0.455   0.095        0.2245        0.1010       0.150        0.4755     15\n",
       "1   0.350   0.090        0.0995        0.0485       0.070        0.2180      7\n",
       "2   0.530   0.135        0.2565        0.1415       0.210        0.6080      9\n",
       "3   0.440   0.125        0.2155        0.1140       0.155        0.4845     10\n",
       "4   0.330   0.080        0.0895        0.0395       0.055        0.1840      7"
      ]
     },
     "execution_count": 80,
     "metadata": {},
     "output_type": "execute_result"
    }
   ],
   "source": [
    "data.head()"
   ]
  },
  {
   "cell_type": "code",
   "execution_count": 81,
   "metadata": {},
   "outputs": [],
   "source": [
    "featuresn=data.iloc[:,:-1]\n",
    "target=data.iloc[:,-1]\n",
    "trn_inpn,tes_inpn,trn_outn,tes_outn=tts(features,target,random_state=0)"
   ]
  },
  {
   "cell_type": "code",
   "execution_count": 82,
   "metadata": {},
   "outputs": [],
   "source": [
    "modeln=LinearRegression()\n",
    "modeln.fit(trn_inpn,trn_outn)\n",
    "trn_prdn=modeln.predict(trn_inpn)\n",
    "tes_prdn=modeln.predict(tes_inpn)"
   ]
  },
  {
   "cell_type": "code",
   "execution_count": 83,
   "metadata": {},
   "outputs": [
    {
     "name": "stdout",
     "output_type": "stream",
     "text": [
      "r2_Score=0.5318316442551694\n",
      "rmse testing=2.21800017721091\n",
      "rmse testing=2.2379151623108116\n"
     ]
    }
   ],
   "source": [
    "print(\"r2_Score={}\".format(r2_score(tes_outn,tes_prdn)))\n",
    "print(\"rmse testing={}\".format(math.sqrt(mean_squared_error(tes_outn,tes_prdn))))\n",
    "print(\"rmse testing={}\".format(math.sqrt(mean_squared_error(trn_outn,trn_prdn))))"
   ]
  },
  {
   "cell_type": "code",
   "execution_count": null,
   "metadata": {},
   "outputs": [],
   "source": []
  }
 ],
 "metadata": {
  "kernelspec": {
   "display_name": "Python 3",
   "language": "python",
   "name": "python3"
  },
  "language_info": {
   "codemirror_mode": {
    "name": "ipython",
    "version": 3
   },
   "file_extension": ".py",
   "mimetype": "text/x-python",
   "name": "python",
   "nbconvert_exporter": "python",
   "pygments_lexer": "ipython3",
   "version": "3.6.8"
  }
 },
 "nbformat": 4,
 "nbformat_minor": 2
}
