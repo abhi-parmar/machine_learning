{
 "cells": [
  {
   "cell_type": "code",
   "execution_count": 34,
   "metadata": {},
   "outputs": [],
   "source": [
    "import numpy as np\n",
    "import pandas as pd\n",
    "from sklearn.metrics import accuracy_score,classification_report\n",
    "from sklearn.model_selection import train_test_split\n",
    "from sklearn.svm import LinearSVC\n",
    "from sklearn.svm import SVC\n",
    "from sklearn.svm import NuSVC\n",
    "import matplotlib.pyplot as plt"
   ]
  },
  {
   "cell_type": "code",
   "execution_count": 35,
   "metadata": {},
   "outputs": [],
   "source": [
    "data=np.genfromtxt('phis_data.csv',delimiter=',',dtype=np.int32)"
   ]
  },
  {
   "cell_type": "code",
   "execution_count": 36,
   "metadata": {},
   "outputs": [],
   "source": [
    "inp=data[:,:-1]\n",
    "out=data[:,-1]"
   ]
  },
  {
   "cell_type": "code",
   "execution_count": 37,
   "metadata": {},
   "outputs": [],
   "source": [
    "df=pd.DataFrame(data)"
   ]
  },
  {
   "cell_type": "code",
   "execution_count": 38,
   "metadata": {},
   "outputs": [],
   "source": [
    "df.columns=['having_ip','url_len','short_serv','having_@_symb','double_slash_redir','prefix_suffix','having_sub_domain','ssl_final_state','domain_reg_len','favicon','port','https_token','req_url','url_of_anchor','links_in_tags','sfh','submitting_to_email','abnormal_url','redirect','on_mouseover','right_click','pop_up','i_frame','age_of_domain','dns_record','web_traff','page_rank','google_ind','links_to_page','stat_rep','result']\n",
    "feat=['having_ip','url_len','short_serv','having_@_symb','double_slash_redir','prefix_suffix','having_sub_domain','ssl_final_state','domain_reg_len','favicon','port','https_token','req_url','url_of_anchor','links_in_tags','sfh','submitting_to_email','abnormal_url','redirect','on_mouseover','right_click','pop_up','i_frame','age_of_domain','dns_record','web_traff','page_rank','google_ind','links_to_page','stat_rep']"
   ]
  },
  {
   "cell_type": "code",
   "execution_count": 39,
   "metadata": {},
   "outputs": [],
   "source": [
    "X=df[['having_ip','url_len','short_serv','having_@_symb','double_slash_redir','prefix_suffix','having_sub_domain','ssl_final_state','domain_reg_len','favicon','port','https_token','req_url','url_of_anchor','links_in_tags','sfh','submitting_to_email','abnormal_url','redirect','on_mouseover','right_click','pop_up','i_frame','age_of_domain','dns_record','web_traff','page_rank','google_ind','links_to_page','stat_rep']]\n",
    "y=df['result']\n",
    "X_train,X_test,y_train,y_test=train_test_split(X,y,test_size=0.3,random_state=69)"
   ]
  },
  {
   "cell_type": "code",
   "execution_count": 40,
   "metadata": {},
   "outputs": [
    {
     "name": "stdout",
     "output_type": "stream",
     "text": [
      "(7738, 30)\n",
      "(3317, 30)\n",
      "(7738,)\n",
      "(3317,)\n"
     ]
    }
   ],
   "source": [
    "print(X_train.shape)\n",
    "print(X_test.shape)\n",
    "print(y_train.shape)\n",
    "print(y_test.shape)"
   ]
  },
  {
   "cell_type": "code",
   "execution_count": 41,
   "metadata": {},
   "outputs": [],
   "source": [
    "classif=LinearSVC()\n",
    "classif_svc=SVC()\n",
    "classif_nsvc=NuSVC()"
   ]
  },
  {
   "cell_type": "code",
   "execution_count": 42,
   "metadata": {},
   "outputs": [
    {
     "data": {
      "text/plain": [
       "LinearSVC(C=1.0, class_weight=None, dual=True, fit_intercept=True,\n",
       "          intercept_scaling=1, loss='squared_hinge', max_iter=1000,\n",
       "          multi_class='ovr', penalty='l2', random_state=None, tol=0.0001,\n",
       "          verbose=0)"
      ]
     },
     "execution_count": 42,
     "metadata": {},
     "output_type": "execute_result"
    }
   ],
   "source": [
    "classif.fit(X_train,y_train)"
   ]
  },
  {
   "cell_type": "code",
   "execution_count": 43,
   "metadata": {},
   "outputs": [],
   "source": [
    "y_pred=classif.predict(X_test)"
   ]
  },
  {
   "cell_type": "code",
   "execution_count": 44,
   "metadata": {},
   "outputs": [
    {
     "name": "stdout",
     "output_type": "stream",
     "text": [
      "Accuracy using linear support vector classifier is: 93.1263189629183 %\n"
     ]
    }
   ],
   "source": [
    "print(\"Accuracy using linear support vector classifier is: {} %\".format((accuracy_score(y_test,y_pred))*100))"
   ]
  },
  {
   "cell_type": "code",
   "execution_count": 23,
   "metadata": {},
   "outputs": [
    {
     "name": "stderr",
     "output_type": "stream",
     "text": [
      "/home/abhishek/pyth/jup/lib/python3.5/site-packages/sklearn/svm/base.py:193: FutureWarning: The default value of gamma will change from 'auto' to 'scale' in version 0.22 to account better for unscaled features. Set gamma explicitly to 'auto' or 'scale' to avoid this warning.\n",
      "  \"avoid this warning.\", FutureWarning)\n",
      "/home/abhishek/pyth/jup/lib/python3.5/site-packages/sklearn/svm/base.py:193: FutureWarning: The default value of gamma will change from 'auto' to 'scale' in version 0.22 to account better for unscaled features. Set gamma explicitly to 'auto' or 'scale' to avoid this warning.\n",
      "  \"avoid this warning.\", FutureWarning)\n"
     ]
    },
    {
     "data": {
      "text/plain": [
       "NuSVC(cache_size=200, class_weight=None, coef0=0.0,\n",
       "      decision_function_shape='ovr', degree=3, gamma='auto_deprecated',\n",
       "      kernel='rbf', max_iter=-1, nu=0.5, probability=False, random_state=None,\n",
       "      shrinking=True, tol=0.001, verbose=False)"
      ]
     },
     "execution_count": 23,
     "metadata": {},
     "output_type": "execute_result"
    }
   ],
   "source": [
    "classif_svc.fit(X_train,y_train)\n",
    "classif_nsvc.fit(X_train,y_train)"
   ]
  },
  {
   "cell_type": "code",
   "execution_count": 25,
   "metadata": {},
   "outputs": [],
   "source": [
    "y_pred_svc=classif_svc.predict(X_test)\n",
    "y_pred_nsvc=classif_nsvc.predict(X_test)"
   ]
  },
  {
   "cell_type": "code",
   "execution_count": 27,
   "metadata": {},
   "outputs": [
    {
     "name": "stdout",
     "output_type": "stream",
     "text": [
      "The Accuracy with SVC is 94.69 %\n",
      "The Accuracy with NuSVC is 91.53 %\n"
     ]
    }
   ],
   "source": [
    "print(\"The Accuracy with SVC is {:.2f} %\".format((accuracy_score(y_test,y_pred_svc))*100))\n",
    "print(\"The Accuracy with NuSVC is {:.2f} %\".format((accuracy_score(y_test,y_pred_nsvc))*100))"
   ]
  },
  {
   "cell_type": "code",
   "execution_count": null,
   "metadata": {},
   "outputs": [],
   "source": []
  }
 ],
 "metadata": {
  "kernelspec": {
   "display_name": "Python 3",
   "language": "python",
   "name": "python3"
  },
  "language_info": {
   "codemirror_mode": {
    "name": "ipython",
    "version": 3
   },
   "file_extension": ".py",
   "mimetype": "text/x-python",
   "name": "python",
   "nbconvert_exporter": "python",
   "pygments_lexer": "ipython3",
   "version": "3.6.8"
  }
 },
 "nbformat": 4,
 "nbformat_minor": 2
}
